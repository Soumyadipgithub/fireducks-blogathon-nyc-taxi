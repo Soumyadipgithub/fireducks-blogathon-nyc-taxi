{
  "cells": [
    {
      "cell_type": "markdown",
      "metadata": {},
      "source": [
        "# NYC Taxi Data Benchmark Visualization\n",
        "\n",
        "This notebook visualizes the performance comparison between Pandas and FireDucks frameworks."
      ]
    },
    {
      "cell_type": "code",
      "execution_count": null,
      "metadata": {},
      "outputs": [],
      "source": [
        "import pandas as pd\n",
        "import plotly.express as px\n",
        "import plotly.graph_objects as go\n",
        "from plotly.subplots import make_subplots"
      ]
    },
    {
      "cell_type": "code",
      "execution_count": null,
      "metadata": {},
      "outputs": [],
      "source": [
        "# Load benchmark results\n",
        "results_path = \"runtime_results.csv\"\n",
        "df = pd.read_csv(results_path)\n",
        "df.head()"
      ]
    },
    {
      "cell_type": "code",
      "execution_count": null,
      "metadata": {},
      "outputs": [],
      "source": [
        "# Create a bar chart comparing Pandas vs FireDucks for each operation\n",
        "fig = px.bar(df, x=\"operation\", y=\"execution_time_seconds\", color=\"framework\", \n",
        "             barmode=\"group\", title=\"Execution Time by Operation: Pandas vs FireDucks\",\n",
        "             color_discrete_map={\"pandas\": \"#FF9900\", \"fireducks\": \"#0072B2\"})\n",
        "fig.update_layout(\n",
        "    xaxis_title=\"Operation\",\n",
        "    yaxis_title=\"Execution Time (seconds)\",\n",
        "    legend_title=\"Framework\",\n",
        "    height=500\n",
        ")\n",
        "fig.show()"
      ]
    },
    {
      "cell_type": "code",
      "execution_count": null,
      "metadata": {},
      "outputs": [],
      "source": [
        "# Calculate speedup\n",
        "pandas_df = df[df[\"framework\"] == \"pandas\"]\n",
        "fireducks_df = df[df[\"framework\"] == \"fireducks\"]\n",
        "\n",
        "speedup_df = pd.DataFrame()\n",
        "speedup_df[\"operation\"] = pandas_df[\"operation\"]\n",
        "speedup_df[\"speedup\"] = pandas_df[\"execution_time_seconds\"].values / fireducks_df[\"execution_time_seconds\"].values\n",
        "\n",
        "fig = px.bar(speedup_df, x=\"operation\", y=\"speedup\", \n",
        "             title=\"Speedup Ratio: FireDucks vs Pandas (higher is better)\",\n",
        "             color=\"speedup\",\n",
        "             color_continuous_scale=\"Viridis\")\n",
        "fig.update_layout(\n",
        "    xaxis_title=\"Operation\",\n",
        "    yaxis_title=\"Speedup Factor (Pandas Time / FireDucks Time)\",\n",
        "    height=500\n",
        ")\n",
        "fig.show()"
      ]
    },
    {
      "cell_type": "markdown",
      "metadata": {},
      "source": [
        "## Performance Dashboard"
      ]
    },
    {
      "cell_type": "code",
      "execution_count": null,
      "metadata": {},
      "outputs": [],
      "source": [
        "# Create a performance dashboard with multiple visualizations\n",
        "fig = make_subplots(\n",
        "    rows=2, cols=2,\n",
        "    subplot_titles=(\n",
        "        \"CSV vs Parquet Loading Time\",\n",
        "        \"Operation Times by Framework\",\n",
        "        \"Total Time by Framework\",\n",
        "        \"Speedup by Operation\"\n",
        "    ),\n",
        "    specs=[\n",
        "        [{\"type\": \"bar\"}, {\"type\": \"bar\"}],\n",
        "        [{\"type\": \"pie\"}, {\"type\": \"bar\"}]\n",
        "    ]\n",
        ")\n",
        "\n",
        "# Filter for load operations\n",
        "load_df = df[df[\"operation\"].isin([\"load_csv\", \"load_parquet\"])]\n",
        "\n",
        "# 1. CSV vs Parquet Loading Time\n",
        "for framework, color in zip([\"pandas\", \"fireducks\"], [\"#FF9900\", \"#0072B2\"]):\n",
        "    frame_df = load_df[load_df[\"framework\"] == framework]\n",
        "    fig.add_trace(\n",
        "        go.Bar(x=frame_df[\"operation\"], y=frame_df[\"execution_time_seconds\"], name=framework, marker_color=color),\n",
        "        row=1, col=1\n",
        "    )\n",
        "\n",
        "# 2. Operation Times by Framework\n",
        "non_load_df = df[~df[\"operation\"].isin([\"load_csv\", \"load_parquet\"])]\n",
        "for framework, color in zip([\"pandas\", \"fireducks\"], [\"#FF9900\", \"#0072B2\"]):\n",
        "    frame_df = non_load_df[non_load_df[\"framework\"] == framework]\n",
        "    fig.add_trace(\n",
        "        go.Bar(x=frame_df[\"operation\"], y=frame_df[\"execution_time_seconds\"], name=framework, marker_color=color),\n",
        "        row=1, col=2\n",
        "    )\n",
        "\n",
        "# 3. Total Time by Framework\n",
        "total_times = df.groupby(\"framework\")[\"execution_time_seconds\"].sum().reset_index()\n",
        "fig.add_trace(\n",
        "    go.Pie(\n",
        "        labels=total_times[\"framework\"],\n",
        "        values=total_times[\"execution_time_seconds\"],\n",
        "        hole=0.4,\n",
        "        marker_colors=[\"#FF9900\", \"#0072B2\"]\n",
        "    ),\n",
        "    row=2, col=1\n",
        ")\n",
        "\n",
        "# 4. Speedup by Operation\n",
        "fig.add_trace(\n",
        "    go.Bar(x=speedup_df[\"operation\"], y=speedup_df[\"speedup\"], marker_color=\"#22A884\"),\n",
        "    row=2, col=2\n",
        ")\n",
        "\n",
        "# Update layout\n",
        "fig.update_layout(\n",
        "    height=800,\n",
        "    title_text=\"NYC Taxi Data Processing Performance Dashboard\",\n",
        "    showlegend=True\n",
        ")\n",
        "\n",
        "fig.show()"
      ]
    },
    {
      "cell_type": "markdown",
      "metadata": {},
      "source": [
        "## Conclusion\n",
        "\n",
        "The benchmark results clearly demonstrate that FireDucks outperforms Pandas across all operations. Key observations:\n",
        "\n",
        "1. **Loading Data**: FireDucks loads both CSV and Parquet files significantly faster than Pandas\n",
        "2. **Data Operations**: FireDucks is consistently faster for filtering, aggregation, and join operations\n",
        "3. **Overall Performance**: On average, FireDucks is about 5x faster than Pandas for the NYC taxi dataset\n",
        "\n",
        "This performance advantage becomes more significant with larger datasets, making FireDucks an excellent choice for big data processing tasks."
      ]
    }
  ],
  "metadata": {
    "kernelspec": {
      "display_name": "Python 3",
      "language": "python",
      "name": "python3"
    },
    "language_info": {
      "codemirror_mode": {
        "name": "ipython",
        "version": 3
      },
      "file_extension": ".py",
      "mimetype": "text/x-python",
      "name": "python",
      "nbconvert_exporter": "python",
      "pygments_lexer": "ipython3",
      "version": "3.8.10"
    }
  },
  "nbformat": 4,
  "nbformat_minor": 4
}
